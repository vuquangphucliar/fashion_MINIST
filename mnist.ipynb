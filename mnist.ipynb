{
  "cells": [
    {
      "cell_type": "markdown",
      "metadata": {
        "id": "XatfIQI7m1hA"
      },
      "source": [
        "## Fashion Mnist using keras to buiding ANN\n",
        "\n",
        "- Fashion Mnist dataset: Fashion-MNIST is a dataset of Zalando's article images consisting of a training set of 60,000 examples and a test set of 10,000 examples. Each example is a 28x28 grayscale image, associated with a label from 10 classes.\n",
        "- Goal: Classify grayscale fashion-mnist images into 10 classes"
      ]
    },
    {
      "cell_type": "code",
      "execution_count": 1,
      "metadata": {
        "colab": {
          "base_uri": "https://localhost:8080/"
        },
        "id": "Lb_KALwhm1hC",
        "outputId": "becdc1a1-a4fc-40e6-dd41-d22d61eba9bd"
      },
      "outputs": [
        {
          "output_type": "stream",
          "name": "stdout",
          "text": [
            "Keras version: 2.15.0\n"
          ]
        }
      ],
      "source": [
        "# First of all define all those libs needed for your project\n",
        "import keras\n",
        "import matplotlib.pyplot as plt\n",
        "import numpy as np\n",
        "import random\n",
        "import keras.layers as layers\n",
        "from typing import Optional\n",
        "\n",
        "\n",
        "# Common to check version of libs\n",
        "print(f\"Keras version: {keras.__version__}\")"
      ]
    },
    {
      "cell_type": "markdown",
      "source": [
        "# 1. Load fashion mnist"
      ],
      "metadata": {
        "id": "Ke6y-bGfuBSK"
      }
    },
    {
      "cell_type": "code",
      "source": [
        "# this is how you can get the dataset from tensorflow\n",
        "# the oad_data() return two tuples include things as below\n",
        "(X_train, y_train), (X_test, y_test) =  keras.datasets.fashion_mnist.load_data()"
      ],
      "metadata": {
        "id": "XPmqhwYwtYPN"
      },
      "execution_count": 2,
      "outputs": []
    },
    {
      "cell_type": "code",
      "source": [
        "X_train.dtype, y_train.dtype"
      ],
      "metadata": {
        "id": "5ub0rraJuXJ-",
        "outputId": "a89c610b-8d4d-455b-dd65-174fec7a8945",
        "colab": {
          "base_uri": "https://localhost:8080/"
        }
      },
      "execution_count": 3,
      "outputs": [
        {
          "output_type": "execute_result",
          "data": {
            "text/plain": [
              "(dtype('uint8'), dtype('uint8'))"
            ]
          },
          "metadata": {},
          "execution_count": 3
        }
      ]
    },
    {
      "cell_type": "code",
      "source": [
        "X_train.shape, y_train.shape"
      ],
      "metadata": {
        "id": "d-xoC2OTvT6w",
        "outputId": "10566fda-4483-444d-ab23-9dd623681909",
        "colab": {
          "base_uri": "https://localhost:8080/"
        }
      },
      "execution_count": 4,
      "outputs": [
        {
          "output_type": "execute_result",
          "data": {
            "text/plain": [
              "((60000, 28, 28), (60000,))"
            ]
          },
          "metadata": {},
          "execution_count": 4
        }
      ]
    },
    {
      "cell_type": "code",
      "source": [
        "X_train[0],"
      ],
      "metadata": {
        "id": "bI-lM43vvhbV",
        "outputId": "f3aed39b-b2da-464f-a05f-cf9ce76732af",
        "colab": {
          "base_uri": "https://localhost:8080/"
        }
      },
      "execution_count": 5,
      "outputs": [
        {
          "output_type": "execute_result",
          "data": {
            "text/plain": [
              "(array([[  0,   0,   0,   0,   0,   0,   0,   0,   0,   0,   0,   0,   0,\n",
              "           0,   0,   0,   0,   0,   0,   0,   0,   0,   0,   0,   0,   0,\n",
              "           0,   0],\n",
              "        [  0,   0,   0,   0,   0,   0,   0,   0,   0,   0,   0,   0,   0,\n",
              "           0,   0,   0,   0,   0,   0,   0,   0,   0,   0,   0,   0,   0,\n",
              "           0,   0],\n",
              "        [  0,   0,   0,   0,   0,   0,   0,   0,   0,   0,   0,   0,   0,\n",
              "           0,   0,   0,   0,   0,   0,   0,   0,   0,   0,   0,   0,   0,\n",
              "           0,   0],\n",
              "        [  0,   0,   0,   0,   0,   0,   0,   0,   0,   0,   0,   0,   1,\n",
              "           0,   0,  13,  73,   0,   0,   1,   4,   0,   0,   0,   0,   1,\n",
              "           1,   0],\n",
              "        [  0,   0,   0,   0,   0,   0,   0,   0,   0,   0,   0,   0,   3,\n",
              "           0,  36, 136, 127,  62,  54,   0,   0,   0,   1,   3,   4,   0,\n",
              "           0,   3],\n",
              "        [  0,   0,   0,   0,   0,   0,   0,   0,   0,   0,   0,   0,   6,\n",
              "           0, 102, 204, 176, 134, 144, 123,  23,   0,   0,   0,   0,  12,\n",
              "          10,   0],\n",
              "        [  0,   0,   0,   0,   0,   0,   0,   0,   0,   0,   0,   0,   0,\n",
              "           0, 155, 236, 207, 178, 107, 156, 161, 109,  64,  23,  77, 130,\n",
              "          72,  15],\n",
              "        [  0,   0,   0,   0,   0,   0,   0,   0,   0,   0,   0,   1,   0,\n",
              "          69, 207, 223, 218, 216, 216, 163, 127, 121, 122, 146, 141,  88,\n",
              "         172,  66],\n",
              "        [  0,   0,   0,   0,   0,   0,   0,   0,   0,   1,   1,   1,   0,\n",
              "         200, 232, 232, 233, 229, 223, 223, 215, 213, 164, 127, 123, 196,\n",
              "         229,   0],\n",
              "        [  0,   0,   0,   0,   0,   0,   0,   0,   0,   0,   0,   0,   0,\n",
              "         183, 225, 216, 223, 228, 235, 227, 224, 222, 224, 221, 223, 245,\n",
              "         173,   0],\n",
              "        [  0,   0,   0,   0,   0,   0,   0,   0,   0,   0,   0,   0,   0,\n",
              "         193, 228, 218, 213, 198, 180, 212, 210, 211, 213, 223, 220, 243,\n",
              "         202,   0],\n",
              "        [  0,   0,   0,   0,   0,   0,   0,   0,   0,   1,   3,   0,  12,\n",
              "         219, 220, 212, 218, 192, 169, 227, 208, 218, 224, 212, 226, 197,\n",
              "         209,  52],\n",
              "        [  0,   0,   0,   0,   0,   0,   0,   0,   0,   0,   6,   0,  99,\n",
              "         244, 222, 220, 218, 203, 198, 221, 215, 213, 222, 220, 245, 119,\n",
              "         167,  56],\n",
              "        [  0,   0,   0,   0,   0,   0,   0,   0,   0,   4,   0,   0,  55,\n",
              "         236, 228, 230, 228, 240, 232, 213, 218, 223, 234, 217, 217, 209,\n",
              "          92,   0],\n",
              "        [  0,   0,   1,   4,   6,   7,   2,   0,   0,   0,   0,   0, 237,\n",
              "         226, 217, 223, 222, 219, 222, 221, 216, 223, 229, 215, 218, 255,\n",
              "          77,   0],\n",
              "        [  0,   3,   0,   0,   0,   0,   0,   0,   0,  62, 145, 204, 228,\n",
              "         207, 213, 221, 218, 208, 211, 218, 224, 223, 219, 215, 224, 244,\n",
              "         159,   0],\n",
              "        [  0,   0,   0,   0,  18,  44,  82, 107, 189, 228, 220, 222, 217,\n",
              "         226, 200, 205, 211, 230, 224, 234, 176, 188, 250, 248, 233, 238,\n",
              "         215,   0],\n",
              "        [  0,  57, 187, 208, 224, 221, 224, 208, 204, 214, 208, 209, 200,\n",
              "         159, 245, 193, 206, 223, 255, 255, 221, 234, 221, 211, 220, 232,\n",
              "         246,   0],\n",
              "        [  3, 202, 228, 224, 221, 211, 211, 214, 205, 205, 205, 220, 240,\n",
              "          80, 150, 255, 229, 221, 188, 154, 191, 210, 204, 209, 222, 228,\n",
              "         225,   0],\n",
              "        [ 98, 233, 198, 210, 222, 229, 229, 234, 249, 220, 194, 215, 217,\n",
              "         241,  65,  73, 106, 117, 168, 219, 221, 215, 217, 223, 223, 224,\n",
              "         229,  29],\n",
              "        [ 75, 204, 212, 204, 193, 205, 211, 225, 216, 185, 197, 206, 198,\n",
              "         213, 240, 195, 227, 245, 239, 223, 218, 212, 209, 222, 220, 221,\n",
              "         230,  67],\n",
              "        [ 48, 203, 183, 194, 213, 197, 185, 190, 194, 192, 202, 214, 219,\n",
              "         221, 220, 236, 225, 216, 199, 206, 186, 181, 177, 172, 181, 205,\n",
              "         206, 115],\n",
              "        [  0, 122, 219, 193, 179, 171, 183, 196, 204, 210, 213, 207, 211,\n",
              "         210, 200, 196, 194, 191, 195, 191, 198, 192, 176, 156, 167, 177,\n",
              "         210,  92],\n",
              "        [  0,   0,  74, 189, 212, 191, 175, 172, 175, 181, 185, 188, 189,\n",
              "         188, 193, 198, 204, 209, 210, 210, 211, 188, 188, 194, 192, 216,\n",
              "         170,   0],\n",
              "        [  2,   0,   0,   0,  66, 200, 222, 237, 239, 242, 246, 243, 244,\n",
              "         221, 220, 193, 191, 179, 182, 182, 181, 176, 166, 168,  99,  58,\n",
              "           0,   0],\n",
              "        [  0,   0,   0,   0,   0,   0,   0,  40,  61,  44,  72,  41,  35,\n",
              "           0,   0,   0,   0,   0,   0,   0,   0,   0,   0,   0,   0,   0,\n",
              "           0,   0],\n",
              "        [  0,   0,   0,   0,   0,   0,   0,   0,   0,   0,   0,   0,   0,\n",
              "           0,   0,   0,   0,   0,   0,   0,   0,   0,   0,   0,   0,   0,\n",
              "           0,   0],\n",
              "        [  0,   0,   0,   0,   0,   0,   0,   0,   0,   0,   0,   0,   0,\n",
              "           0,   0,   0,   0,   0,   0,   0,   0,   0,   0,   0,   0,   0,\n",
              "           0,   0]], dtype=uint8),)"
            ]
          },
          "metadata": {},
          "execution_count": 5
        }
      ]
    },
    {
      "cell_type": "code",
      "source": [
        "y_train[16]"
      ],
      "metadata": {
        "id": "su7DApHNvt-c",
        "outputId": "e7e992b3-bc6f-4f79-d3f9-e654ead04f97",
        "colab": {
          "base_uri": "https://localhost:8080/"
        }
      },
      "execution_count": 6,
      "outputs": [
        {
          "output_type": "execute_result",
          "data": {
            "text/plain": [
              "1"
            ]
          },
          "metadata": {},
          "execution_count": 6
        }
      ]
    },
    {
      "cell_type": "code",
      "source": [
        "# The class name contain the true text value corresponding to the number was encode in y_train by mapping the list index to the encoded number.\n",
        "class_name = ['T-shirt/top', \"Trouser\", \"Pullover\", \"Dress\", \"Coat\", \"Sandal\", \"Shirt\", \"Sneaker\", \"Bag\", \"Ankie boot\"]\n",
        "\n",
        "class_name[y_train[16]]"
      ],
      "metadata": {
        "id": "I7kuzpzjwSMC",
        "outputId": "2c12dfaf-f242-450a-816c-c94eadd43050",
        "colab": {
          "base_uri": "https://localhost:8080/",
          "height": 35
        }
      },
      "execution_count": 7,
      "outputs": [
        {
          "output_type": "execute_result",
          "data": {
            "text/plain": [
              "'Trouser'"
            ],
            "application/vnd.google.colaboratory.intrinsic+json": {
              "type": "string"
            }
          },
          "metadata": {},
          "execution_count": 7
        }
      ]
    },
    {
      "cell_type": "code",
      "source": [
        "plt.imshow(X_train[16], cmap='gray')\n",
        "plt.show()"
      ],
      "metadata": {
        "id": "dIV0O_Row0Bd",
        "outputId": "341b6471-f193-4f7b-baee-d6d8ead5df34",
        "colab": {
          "base_uri": "https://localhost:8080/",
          "height": 430
        }
      },
      "execution_count": 8,
      "outputs": [
        {
          "output_type": "display_data",
          "data": {
            "text/plain": [
              "<Figure size 640x480 with 1 Axes>"
            ],
            "image/png": "[encoded data removed]"
          },
          "metadata": {}
        }
      ]
    },
    {
      "cell_type": "code",
      "source": [
        "# Define a def for plotting 10 Images randomly from this dataset cause we cannot see all images in one frame,\n",
        "# the most usefull func in this notebook, it can help you visualize the image using pixel array,\n",
        "\n",
        "def plot_data(X_data: np.ndarray, y_data: np.ndarray, y_proba: Optional[np.ndarray]=None) -> None:\n",
        "    n_rows, n_cols = 2,5\n",
        "\n",
        "    len_x = X_data.shape[0]\n",
        "    fig, axes = plt.subplots(n_rows, n_cols, figsize=(10, 4))\n",
        "    for idx in range(n_rows * n_cols):\n",
        "        ax = axes[idx // n_cols, idx % n_cols ]\n",
        "\n",
        "        img_idx = random.randint(0, len_x)\n",
        "        ax.imshow(X_data[img_idx, ], cmap=\"gray\")\n",
        "        ax.set(xticks=[], yticks=[])\n",
        "\n",
        "        color = 'green'\n",
        "        true_label_str = f\"True: {class_name[y_data[img_idx]]}\"\n",
        "\n",
        "        if y_proba is not None:\n",
        "            predicted_idx = np.argmax(y_proba[img_idx])\n",
        "            predicted_label = class_name[predicted_idx]\n",
        "            color = 'red' if predicted_idx != y_data[img_idx] else color\n",
        "            predicted_label_string = f\"\\nPredicted: {predicted_label}\"\n",
        "\n",
        "        img_tile = true_label_str if y_proba is None else true_label_str + predicted_label_string\n",
        "\n",
        "        ax.set_xlabel(img_tile, color=color, fontsize=12)\n",
        "\n",
        "    plt.tight_layout()\n",
        "    plt.show()\n",
        "\n",
        "# Random 10 images from train set\n",
        "plot_data(X_train, y_train)"
      ],
      "metadata": {
        "id": "yS5yMIdUx6xl",
        "outputId": "525c4370-41f8-4a8e-c61c-ffd91b6d829c",
        "colab": {
          "base_uri": "https://localhost:8080/",
          "height": 410
        }
      },
      "execution_count": 9,
      "outputs": [
        {
          "output_type": "display_data",
          "data": {
            "text/plain": [
              "<Figure size 1000x400 with 10 Axes>"
            ],
            "image/png": "[encoded data removed]"
          },
          "metadata": {}
        }
      ]
    },
    {
      "cell_type": "markdown",
      "source": [
        "# 2. Image preprocessing\n",
        "- Reshaping it into a shape that model expects and scaling to the [0,1] scale, this step also known as data normalization\n",
        "- Transform from `int8` to `float32` because in neural network, everything was computed in float form\n",
        "- And change scale does not effect anything to the image, see the image below for more"
      ],
      "metadata": {
        "id": "kPPquzNz2ICC"
      }
    },
    {
      "cell_type": "code",
      "source": [
        "X_train = X_train.astype(np.float32) / 255\n",
        "X_test = X_test.astype(np.float32) / 255\n",
        "\n",
        "X_train.dtype, X_train.shape"
      ],
      "metadata": {
        "id": "cs4IUKTu1zHi",
        "outputId": "82e0d97a-8831-482a-ab03-111770abdc7d",
        "colab": {
          "base_uri": "https://localhost:8080/"
        }
      },
      "execution_count": 10,
      "outputs": [
        {
          "output_type": "execute_result",
          "data": {
            "text/plain": [
              "(dtype('float32'), (60000, 28, 28))"
            ]
          },
          "metadata": {},
          "execution_count": 10
        }
      ]
    },
    {
      "cell_type": "code",
      "source": [
        "X_train[16]"
      ],
      "metadata": {
        "id": "tpHxExmR3aKz",
        "outputId": "ce969529-f8dc-45ea-9f74-ed3634a3f567",
        "colab": {
          "base_uri": "https://localhost:8080/"
        }
      },
      "execution_count": 11,
      "outputs": [
        {
          "output_type": "execute_result",
          "data": {
            "text/plain": [
              "array([[0.        , 0.        , 0.        , 0.        , 0.        ,\n",
              "        0.        , 0.        , 0.        , 0.        , 0.20784314,\n",
              "        0.57254905, 0.49803922, 0.4509804 , 0.43529412, 0.50980395,\n",
              "        0.5058824 , 0.39215687, 0.5764706 , 0.6627451 , 0.74509805,\n",
              "        0.        , 0.        , 0.        , 0.        , 0.        ,\n",
              "        0.        , 0.        , 0.        ],\n",
              "       [0.        , 0.        , 0.        , 0.        , 0.        ,\n",
              "        0.        , 0.        , 0.        , 0.        , 0.45882353,\n",
              "        0.74509805, 0.7372549 , 0.8666667 , 0.91764706, 0.99607843,\n",
              "        0.9254902 , 0.8666667 , 0.8039216 , 0.7294118 , 0.87058824,\n",
              "        0.        , 0.        , 0.        , 0.        , 0.        ,\n",
              "        0.        , 0.        , 0.        ],\n",
              "       [0.        , 0.        , 0.        , 0.        , 0.        ,\n",
              "        0.        , 0.        , 0.        , 0.        , 0.49803922,\n",
              "        0.6117647 , 0.6862745 , 0.75686276, 0.7647059 , 0.7647059 ,\n",
              "        0.7921569 , 0.79607844, 0.73333335, 0.65882355, 0.89411765,\n",
              "        0.1254902 , 0.        , 0.        , 0.        , 0.        ,\n",
              "        0.        , 0.        , 0.        ],\n",
              "       [0.        , 0.        , 0.        , 0.        , 0.        ,\n",
              "        0.        , 0.        , 0.        , 0.        , 0.64705884,\n",
              "        0.7294118 , 0.7764706 , 0.81960785, 0.85882354, 0.7764706 ,\n",
              "        0.8039216 , 0.827451  , 0.7882353 , 0.7411765 , 0.9137255 ,\n",
              "        0.36862746, 0.        , 0.        , 0.        , 0.        ,\n",
              "        0.        , 0.        , 0.        ],\n",
              "       [0.        , 0.        , 0.        , 0.        , 0.        ,\n",
              "        0.        , 0.        , 0.        , 0.        , 0.7254902 ,\n",
              "        0.78039217, 0.8235294 , 0.88235295, 0.8117647 , 0.7882353 ,\n",
              "        0.8117647 , 0.8666667 , 0.8235294 , 0.8156863 , 0.9254902 ,\n",
              "        0.43529412, 0.        , 0.        , 0.        , 0.        ,\n",
              "        0.        , 0.        , 0.        ],\n",
              "       [0.        , 0.        , 0.        , 0.        , 0.        ,\n",
              "        0.        , 0.        , 0.        , 0.        , 0.78431374,\n",
              "        0.6862745 , 0.6745098 , 0.84313726, 0.8784314 , 0.84705883,\n",
              "        0.84705883, 0.8745098 , 0.8235294 , 0.7764706 , 0.92941177,\n",
              "        0.59607846, 0.        , 0.        , 0.        , 0.        ,\n",
              "        0.        , 0.        , 0.        ],\n",
              "       [0.        , 0.        , 0.        , 0.        , 0.        ,\n",
              "        0.        , 0.        , 0.        , 0.02745098, 0.8352941 ,\n",
              "        0.6117647 , 0.5921569 , 0.67058825, 0.73333335, 0.84313726,\n",
              "        0.8901961 , 0.83137256, 0.78431374, 0.69803923, 0.84313726,\n",
              "        0.69411767, 0.        , 0.        , 0.        , 0.        ,\n",
              "        0.        , 0.        , 0.        ],\n",
              "       [0.        , 0.        , 0.        , 0.        , 0.        ,\n",
              "        0.        , 0.        , 0.        , 0.09803922, 0.7882353 ,\n",
              "        0.53333336, 0.6117647 , 0.69803923, 0.7764706 , 0.8352941 ,\n",
              "        0.92156863, 0.65882355, 0.6509804 , 0.6392157 , 0.8117647 ,\n",
              "        0.69803923, 0.        , 0.        , 0.        , 0.        ,\n",
              "        0.        , 0.        , 0.        ],\n",
              "       [0.        , 0.        , 0.        , 0.        , 0.        ,\n",
              "        0.        , 0.        , 0.        , 0.16470589, 0.7647059 ,\n",
              "        0.5254902 , 0.63529414, 0.67058825, 0.7882353 , 0.00392157,\n",
              "        0.8980392 , 0.7764706 , 0.6509804 , 0.6039216 , 0.75686276,\n",
              "        0.6784314 , 0.        , 0.        , 0.        , 0.        ,\n",
              "        0.        , 0.        , 0.        ],\n",
              "       [0.        , 0.        , 0.        , 0.        , 0.        ,\n",
              "        0.        , 0.        , 0.        , 0.19607843, 0.72156864,\n",
              "        0.5254902 , 0.654902  , 0.72156864, 0.70980394, 0.        ,\n",
              "        0.8352941 , 0.74509805, 0.77254903, 0.7019608 , 0.7411765 ,\n",
              "        0.7019608 , 0.        , 0.        , 0.        , 0.        ,\n",
              "        0.        , 0.        , 0.        ],\n",
              "       [0.        , 0.        , 0.        , 0.        , 0.        ,\n",
              "        0.        , 0.        , 0.        , 0.19215687, 0.6862745 ,\n",
              "        0.5254902 , 0.6627451 , 0.6627451 , 0.827451  , 0.        ,\n",
              "        0.76862746, 0.69803923, 0.6       , 0.7176471 , 0.76862746,\n",
              "        0.6901961 , 0.        , 0.        , 0.        , 0.        ,\n",
              "        0.        , 0.        , 0.        ],\n",
              "       [0.        , 0.        , 0.        , 0.        , 0.        ,\n",
              "        0.        , 0.        , 0.        , 0.19607843, 0.6784314 ,\n",
              "        0.5254902 , 0.654902  , 0.68235296, 0.8745098 , 0.        ,\n",
              "        0.6313726 , 0.8156863 , 0.54901963, 0.6745098 , 0.7764706 ,\n",
              "        0.6784314 , 0.        , 0.        , 0.        , 0.        ,\n",
              "        0.        , 0.        , 0.        ],\n",
              "       [0.        , 0.        , 0.        , 0.        , 0.        ,\n",
              "        0.        , 0.        , 0.        , 0.19215687, 0.6627451 ,\n",
              "        0.49019608, 0.61960787, 0.73333335, 0.8352941 , 0.        ,\n",
              "        0.4862745 , 0.85882354, 0.5176471 , 0.58431375, 0.7764706 ,\n",
              "        0.6901961 , 0.        , 0.        , 0.        , 0.        ,\n",
              "        0.        , 0.        , 0.        ],\n",
              "       [0.        , 0.        , 0.        , 0.        , 0.        ,\n",
              "        0.        , 0.        , 0.        , 0.19215687, 0.65882355,\n",
              "        0.5019608 , 0.5882353 , 0.7529412 , 0.77254903, 0.        ,\n",
              "        0.32156864, 0.85882354, 0.59607846, 0.6       , 0.69411767,\n",
              "        0.6862745 , 0.        , 0.        , 0.        , 0.        ,\n",
              "        0.        , 0.        , 0.        ],\n",
              "       [0.        , 0.        , 0.        , 0.        , 0.        ,\n",
              "        0.        , 0.        , 0.        , 0.19607843, 0.68235296,\n",
              "        0.53333336, 0.5647059 , 0.74509805, 0.7254902 , 0.        ,\n",
              "        0.11372549, 0.8666667 , 0.60784316, 0.6       , 0.72156864,\n",
              "        0.68235296, 0.        , 0.        , 0.        , 0.        ,\n",
              "        0.        , 0.        , 0.        ],\n",
              "       [0.        , 0.        , 0.        , 0.        , 0.        ,\n",
              "        0.        , 0.        , 0.        , 0.20784314, 0.6862745 ,\n",
              "        0.54901963, 0.6313726 , 0.7490196 , 0.56078434, 0.        ,\n",
              "        0.05098039, 0.8666667 , 0.6039216 , 0.6117647 , 0.72156864,\n",
              "        0.6784314 , 0.        , 0.        , 0.        , 0.        ,\n",
              "        0.        , 0.        , 0.        ],\n",
              "       [0.        , 0.        , 0.        , 0.        , 0.        ,\n",
              "        0.        , 0.        , 0.        , 0.22745098, 0.72156864,\n",
              "        0.47843137, 0.6509804 , 0.7764706 , 0.4509804 , 0.        ,\n",
              "        0.        , 0.8509804 , 0.61960787, 0.627451  , 0.7058824 ,\n",
              "        0.654902  , 0.        , 0.        , 0.        , 0.        ,\n",
              "        0.        , 0.        , 0.        ],\n",
              "       [0.        , 0.        , 0.        , 0.        , 0.        ,\n",
              "        0.        , 0.        , 0.        , 0.22745098, 0.8       ,\n",
              "        0.43529412, 0.6745098 , 0.79607844, 0.30980393, 0.        ,\n",
              "        0.        , 0.8       , 0.6431373 , 0.60784316, 0.7372549 ,\n",
              "        0.6627451 , 0.        , 0.        , 0.        , 0.        ,\n",
              "        0.        , 0.        , 0.        ],\n",
              "       [0.        , 0.        , 0.        , 0.        , 0.        ,\n",
              "        0.        , 0.        , 0.        , 0.21568628, 0.8392157 ,\n",
              "        0.5411765 , 0.69411767, 0.81960785, 0.16078432, 0.        ,\n",
              "        0.        , 0.7294118 , 0.7058824 , 0.59607846, 0.73333335,\n",
              "        0.65882355, 0.        , 0.        , 0.        , 0.        ,\n",
              "        0.        , 0.        , 0.        ],\n",
              "       [0.        , 0.        , 0.        , 0.        , 0.        ,\n",
              "        0.        , 0.        , 0.        , 0.21568628, 0.8392157 ,\n",
              "        0.58431375, 0.69411767, 0.8235294 , 0.09019608, 0.        ,\n",
              "        0.        , 0.61960787, 0.78039217, 0.6784314 , 0.7529412 ,\n",
              "        0.6392157 , 0.        , 0.        , 0.        , 0.        ,\n",
              "        0.        , 0.        , 0.        ],\n",
              "       [0.        , 0.        , 0.        , 0.        , 0.        ,\n",
              "        0.        , 0.        , 0.        , 0.21568628, 0.84705883,\n",
              "        0.62352943, 0.73333335, 0.8       , 0.02352941, 0.        ,\n",
              "        0.        , 0.53333336, 0.7764706 , 0.7411765 , 0.8156863 ,\n",
              "        0.64705884, 0.        , 0.        , 0.        , 0.        ,\n",
              "        0.        , 0.        , 0.        ],\n",
              "       [0.        , 0.        , 0.        , 0.        , 0.        ,\n",
              "        0.        , 0.        , 0.        , 0.21568628, 0.83137256,\n",
              "        0.6313726 , 0.77254903, 0.7490196 , 0.        , 0.        ,\n",
              "        0.        , 0.4627451 , 0.7529412 , 0.7254902 , 0.8392157 ,\n",
              "        0.6313726 , 0.        , 0.        , 0.        , 0.        ,\n",
              "        0.        , 0.        , 0.        ],\n",
              "       [0.        , 0.        , 0.        , 0.        , 0.        ,\n",
              "        0.        , 0.        , 0.        , 0.24705882, 0.7882353 ,\n",
              "        0.63529414, 0.8117647 , 0.67058825, 0.        , 0.        ,\n",
              "        0.        , 0.3372549 , 0.77254903, 0.72156864, 0.8392157 ,\n",
              "        0.6117647 , 0.        , 0.        , 0.        , 0.        ,\n",
              "        0.        , 0.        , 0.        ],\n",
              "       [0.        , 0.        , 0.        , 0.        , 0.        ,\n",
              "        0.        , 0.        , 0.        , 0.26666668, 0.77254903,\n",
              "        0.65882355, 0.8352941 , 0.60784316, 0.        , 0.        ,\n",
              "        0.        , 0.2509804 , 0.76862746, 0.7176471 , 0.85882354,\n",
              "        0.6039216 , 0.        , 0.        , 0.        , 0.        ,\n",
              "        0.        , 0.        , 0.        ],\n",
              "       [0.        , 0.        , 0.        , 0.        , 0.        ,\n",
              "        0.        , 0.        , 0.        , 0.28627452, 0.75686276,\n",
              "        0.65882355, 0.84313726, 0.57254905, 0.        , 0.00392157,\n",
              "        0.        , 0.21960784, 0.74509805, 0.7058824 , 0.8039216 ,\n",
              "        0.57254905, 0.        , 0.        , 0.        , 0.        ,\n",
              "        0.        , 0.        , 0.        ],\n",
              "       [0.        , 0.        , 0.        , 0.        , 0.        ,\n",
              "        0.        , 0.        , 0.        , 0.28627452, 0.6901961 ,\n",
              "        0.65882355, 0.8       , 0.5372549 , 0.        , 0.01176471,\n",
              "        0.        , 0.14509805, 0.7294118 , 0.7019608 , 0.8       ,\n",
              "        0.5411765 , 0.        , 0.        , 0.        , 0.        ,\n",
              "        0.        , 0.        , 0.        ],\n",
              "       [0.        , 0.        , 0.        , 0.        , 0.        ,\n",
              "        0.        , 0.        , 0.        , 0.36862746, 0.77254903,\n",
              "        0.69803923, 0.83137256, 0.5058824 , 0.        , 0.01960784,\n",
              "        0.        , 0.1254902 , 0.75686276, 0.7254902 , 0.8235294 ,\n",
              "        0.5882353 , 0.        , 0.        , 0.        , 0.        ,\n",
              "        0.        , 0.        , 0.        ],\n",
              "       [0.        , 0.        , 0.        , 0.        , 0.        ,\n",
              "        0.        , 0.        , 0.        , 0.19215687, 0.47843137,\n",
              "        0.49411765, 0.627451  , 0.25490198, 0.        , 0.01176471,\n",
              "        0.        , 0.03137255, 0.6117647 , 0.6784314 , 0.7372549 ,\n",
              "        0.41960785, 0.        , 0.        , 0.        , 0.        ,\n",
              "        0.        , 0.        , 0.        ]], dtype=float32)"
            ]
          },
          "metadata": {},
          "execution_count": 11
        }
      ]
    },
    {
      "cell_type": "code",
      "source": [
        "# Expand Dimession chanel\n",
        "# Turn image shape (60000, 28, 28) -> (60000, 28, 28, 1)\n",
        "# Add new chanel, this case is graycale so we add new one channel, or demenssion\n",
        "# Why, because it's convention of keras or tensorflow, just follow the rule\n",
        "\n",
        "X_train = np.expand_dims(X_train, axis=-1)\n",
        "X_test = np.expand_dims(X_test, axis=-1)\n",
        "\n",
        "X_test.shape, X_test.dtype"
      ],
      "metadata": {
        "id": "H-sQyt6j3_qe",
        "outputId": "d3fd15d1-4cae-4300-ccdb-8f29e1b80a09",
        "colab": {
          "base_uri": "https://localhost:8080/"
        }
      },
      "execution_count": 12,
      "outputs": [
        {
          "output_type": "execute_result",
          "data": {
            "text/plain": [
              "((10000, 28, 28, 1), dtype('float32'))"
            ]
          },
          "metadata": {},
          "execution_count": 12
        }
      ]
    },
    {
      "cell_type": "code",
      "source": [
        "X_train.shape, X_train.dtype"
      ],
      "metadata": {
        "id": "YYzox1Y35cQP",
        "outputId": "c3aa7336-3c21-4583-819f-39c5b83b4a9f",
        "colab": {
          "base_uri": "https://localhost:8080/"
        }
      },
      "execution_count": 13,
      "outputs": [
        {
          "output_type": "execute_result",
          "data": {
            "text/plain": [
              "((60000, 28, 28, 1), dtype('float32'))"
            ]
          },
          "metadata": {},
          "execution_count": 13
        }
      ]
    },
    {
      "cell_type": "code",
      "source": [
        "# The truth is I don't even know what I'm looking at right there, the ouput below\n",
        "# Keep in mind that this is the 4d pixel normalized array of image 16, the new dimenssion we added above was nothing,\n",
        "# It hold nothing , you see that I'n not assigning anything to it\n",
        "# So allow me to give you some word of advice, just follow the rule, like you just understand that is the convetion, the size of image,\n",
        "# its chanel, total sample, just put it in place, in that array, and step beside, let the model do the rest, just remember the order of these\n",
        "# properties of a dataset (image dataset) it just a folder has tons of image inside\n",
        "# Any array has dimenssion above 4, was hard to visualize but tool, so just forget it, understand it like a concept\n",
        "# the size of a image was a shape of the pixel, this case is 28*28 total pixel in on image, each pixel was represented by a number of color spectrum\n",
        "\n",
        "\n",
        "X_train[16]"
      ],
      "metadata": {
        "id": "40UiFaIB53XY",
        "outputId": "17a5e8f4-1c81-472d-8f7b-d6b6094c2420",
        "colab": {
          "base_uri": "https://localhost:8080/"
        }
      },
      "execution_count": 14,
      "outputs": [
        {
          "output_type": "execute_result",
          "data": {
            "text/plain": [
              "array([[[0.        ],\n",
              "        [0.        ],\n",
              "        [0.        ],\n",
              "        [0.        ],\n",
              "        [0.        ],\n",
              "        [0.        ],\n",
              "        [0.        ],\n",
              "        [0.        ],\n",
              "        [0.        ],\n",
              "        [0.20784314],\n",
              "        [0.57254905],\n",
              "        [0.49803922],\n",
              "        [0.4509804 ],\n",
              "        [0.43529412],\n",
              "        [0.50980395],\n",
              "        [0.5058824 ],\n",
              "        [0.39215687],\n",
              "        [0.5764706 ],\n",
              "        [0.6627451 ],\n",
              "        [0.74509805],\n",
              "        [0.        ],\n",
              "        [0.        ],\n",
              "        [0.        ],\n",
              "        [0.        ],\n",
              "        [0.        ],\n",
              "        [0.        ],\n",
              "        [0.        ],\n",
              "        [0.        ]],\n",
              "\n",
              "       [[0.        ],\n",
              "        [0.        ],\n",
              "        [0.        ],\n",
              "        [0.        ],\n",
              "        [0.        ],\n",
              "        [0.        ],\n",
              "        [0.        ],\n",
              "        [0.        ],\n",
              "        [0.        ],\n",
              "        [0.45882353],\n",
              "        [0.74509805],\n",
              "        [0.7372549 ],\n",
              "        [0.8666667 ],\n",
              "        [0.91764706],\n",
              "        [0.99607843],\n",
              "        [0.9254902 ],\n",
              "        [0.8666667 ],\n",
              "        [0.8039216 ],\n",
              "        [0.7294118 ],\n",
              "        [0.87058824],\n",
              "        [0.        ],\n",
              "        [0.        ],\n",
              "        [0.        ],\n",
              "        [0.        ],\n",
              "        [0.        ],\n",
              "        [0.        ],\n",
              "        [0.        ],\n",
              "        [0.        ]],\n",
              "\n",
              "       [[0.        ],\n",
              "        [0.        ],\n",
              "        [0.        ],\n",
              "        [0.        ],\n",
              "        [0.        ],\n",
              "        [0.        ],\n",
              "        [0.        ],\n",
              "        [0.        ],\n",
              "        [0.        ],\n",
              "        [0.49803922],\n",
              "        [0.6117647 ],\n",
              "        [0.6862745 ],\n",
              "        [0.75686276],\n",
              "        [0.7647059 ],\n",
              "        [0.7647059 ],\n",
              "        [0.7921569 ],\n",
              "        [0.79607844],\n",
              "        [0.73333335],\n",
              "        [0.65882355],\n",
              "        [0.89411765],\n",
              "        [0.1254902 ],\n",
              "        [0.        ],\n",
              "        [0.        ],\n",
              "        [0.        ],\n",
              "        [0.        ],\n",
              "        [0.        ],\n",
              "        [0.        ],\n",
              "        [0.        ]],\n",
              "\n",
              "       [[0.        ],\n",
              "        [0.        ],\n",
              "        [0.        ],\n",
              "        [0.        ],\n",
              "        [0.        ],\n",
              "        [0.        ],\n",
              "        [0.        ],\n",
              "        [0.        ],\n",
              "        [0.        ],\n",
              "        [0.64705884],\n",
              "        [0.7294118 ],\n",
              "        [0.7764706 ],\n",
              "        [0.81960785],\n",
              "        [0.85882354],\n",
              "        [0.7764706 ],\n",
              "        [0.8039216 ],\n",
              "        [0.827451  ],\n",
              "        [0.7882353 ],\n",
              "        [0.7411765 ],\n",
              "        [0.9137255 ],\n",
              "        [0.36862746],\n",
              "        [0.        ],\n",
              "        [0.        ],\n",
              "        [0.        ],\n",
              "        [0.        ],\n",
              "        [0.        ],\n",
              "        [0.        ],\n",
              "        [0.        ]],\n",
              "\n",
              "       [[0.        ],\n",
              "        [0.        ],\n",
              "        [0.        ],\n",
              "        [0.        ],\n",
              "        [0.        ],\n",
              "        [0.        ],\n",
              "        [0.        ],\n",
              "        [0.        ],\n",
              "        [0.        ],\n",
              "        [0.7254902 ],\n",
              "        [0.78039217],\n",
              "        [0.8235294 ],\n",
              "        [0.88235295],\n",
              "        [0.8117647 ],\n",
              "        [0.7882353 ],\n",
              "        [0.8117647 ],\n",
              "        [0.8666667 ],\n",
              "        [0.8235294 ],\n",
              "        [0.8156863 ],\n",
              "        [0.9254902 ],\n",
              "        [0.43529412],\n",
              "        [0.        ],\n",
              "        [0.        ],\n",
              "        [0.        ],\n",
              "        [0.        ],\n",
              "        [0.        ],\n",
              "        [0.        ],\n",
              "        [0.        ]],\n",
              "\n",
              "       [[0.        ],\n",
              "        [0.        ],\n",
              "        [0.        ],\n",
              "        [0.        ],\n",
              "        [0.        ],\n",
              "        [0.        ],\n",
              "        [0.        ],\n",
              "        [0.        ],\n",
              "        [0.        ],\n",
              "        [0.78431374],\n",
              "        [0.6862745 ],\n",
              "        [0.6745098 ],\n",
              "        [0.84313726],\n",
              "        [0.8784314 ],\n",
              "        [0.84705883],\n",
              "        [0.84705883],\n",
              "        [0.8745098 ],\n",
              "        [0.8235294 ],\n",
              "        [0.7764706 ],\n",
              "        [0.92941177],\n",
              "        [0.59607846],\n",
              "        [0.        ],\n",
              "        [0.        ],\n",
              "        [0.        ],\n",
              "        [0.        ],\n",
              "        [0.        ],\n",
              "        [0.        ],\n",
              "        [0.        ]],\n",
              "\n",
              "       [[0.        ],\n",
              "        [0.        ],\n",
              "        [0.        ],\n",
              "        [0.        ],\n",
              "        [0.        ],\n",
              "        [0.        ],\n",
              "        [0.        ],\n",
              "        [0.        ],\n",
              "        [0.02745098],\n",
              "        [0.8352941 ],\n",
              "        [0.6117647 ],\n",
              "        [0.5921569 ],\n",
              "        [0.67058825],\n",
              "        [0.73333335],\n",
              "        [0.84313726],\n",
              "        [0.8901961 ],\n",
              "        [0.83137256],\n",
              "        [0.78431374],\n",
              "        [0.69803923],\n",
              "        [0.84313726],\n",
              "        [0.69411767],\n",
              "        [0.        ],\n",
              "        [0.        ],\n",
              "        [0.        ],\n",
              "        [0.        ],\n",
              "        [0.        ],\n",
              "        [0.        ],\n",
              "        [0.        ]],\n",
              "\n",
              "       [[0.        ],\n",
              "        [0.        ],\n",
              "        [0.        ],\n",
              "        [0.        ],\n",
              "        [0.        ],\n",
              "        [0.        ],\n",
              "        [0.        ],\n",
              "        [0.        ],\n",
              "        [0.09803922],\n",
              "        [0.7882353 ],\n",
              "        [0.53333336],\n",
              "        [0.6117647 ],\n",
              "        [0.69803923],\n",
              "        [0.7764706 ],\n",
              "        [0.8352941 ],\n",
              "        [0.92156863],\n",
              "        [0.65882355],\n",
              "        [0.6509804 ],\n",
              "        [0.6392157 ],\n",
              "        [0.8117647 ],\n",
              "        [0.69803923],\n",
              "        [0.        ],\n",
              "        [0.        ],\n",
              "        [0.        ],\n",
              "        [0.        ],\n",
              "        [0.        ],\n",
              "        [0.        ],\n",
              "        [0.        ]],\n",
              "\n",
              "       [[0.        ],\n",
              "        [0.        ],\n",
              "        [0.        ],\n",
              "        [0.        ],\n",
              "        [0.        ],\n",
              "        [0.        ],\n",
              "        [0.        ],\n",
              "        [0.        ],\n",
              "        [0.16470589],\n",
              "        [0.7647059 ],\n",
              "        [0.5254902 ],\n",
              "        [0.63529414],\n",
              "        [0.67058825],\n",
              "        [0.7882353 ],\n",
              "        [0.00392157],\n",
              "        [0.8980392 ],\n",
              "        [0.7764706 ],\n",
              "        [0.6509804 ],\n",
              "        [0.6039216 ],\n",
              "        [0.75686276],\n",
              "        [0.6784314 ],\n",
              "        [0.        ],\n",
              "        [0.        ],\n",
              "        [0.        ],\n",
              "        [0.        ],\n",
              "        [0.        ],\n",
              "        [0.        ],\n",
              "        [0.        ]],\n",
              "\n",
              "       [[0.        ],\n",
              "        [0.        ],\n",
              "        [0.        ],\n",
              "        [0.        ],\n",
              "        [0.        ],\n",
              "        [0.        ],\n",
              "        [0.        ],\n",
              "        [0.        ],\n",
              "        [0.19607843],\n",
              "        [0.72156864],\n",
              "        [0.5254902 ],\n",
              "        [0.654902  ],\n",
              "        [0.72156864],\n",
              "        [0.70980394],\n",
              "        [0.        ],\n",
              "        [0.8352941 ],\n",
              "        [0.74509805],\n",
              "        [0.77254903],\n",
              "        [0.7019608 ],\n",
              "        [0.7411765 ],\n",
              "        [0.7019608 ],\n",
              "        [0.        ],\n",
              "        [0.        ],\n",
              "        [0.        ],\n",
              "        [0.        ],\n",
              "        [0.        ],\n",
              "        [0.        ],\n",
              "        [0.        ]],\n",
              "\n",
              "       [[0.        ],\n",
              "        [0.        ],\n",
              "        [0.        ],\n",
              "        [0.        ],\n",
              "        [0.        ],\n",
              "        [0.        ],\n",
              "        [0.        ],\n",
              "        [0.        ],\n",
              "        [0.19215687],\n",
              "        [0.6862745 ],\n",
              "        [0.5254902 ],\n",
              "        [0.6627451 ],\n",
              "        [0.6627451 ],\n",
              "        [0.827451  ],\n",
              "        [0.        ],\n",
              "        [0.76862746],\n",
              "        [0.69803923],\n",
              "        [0.6       ],\n",
              "        [0.7176471 ],\n",
              "        [0.76862746],\n",
              "        [0.6901961 ],\n",
              "        [0.        ],\n",
              "        [0.        ],\n",
              "        [0.        ],\n",
              "        [0.        ],\n",
              "        [0.        ],\n",
              "        [0.        ],\n",
              "        [0.        ]],\n",
              "\n",
              "       [[0.        ],\n",
              "        [0.        ],\n",
              "        [0.        ],\n",
              "        [0.        ],\n",
              "        [0.        ],\n",
              "        [0.        ],\n",
              "        [0.        ],\n",
              "        [0.        ],\n",
              "        [0.19607843],\n",
              "        [0.6784314 ],\n",
              "        [0.5254902 ],\n",
              "        [0.654902  ],\n",
              "        [0.68235296],\n",
              "        [0.8745098 ],\n",
              "        [0.        ],\n",
              "        [0.6313726 ],\n",
              "        [0.8156863 ],\n",
              "        [0.54901963],\n",
              "        [0.6745098 ],\n",
              "        [0.7764706 ],\n",
              "        [0.6784314 ],\n",
              "        [0.        ],\n",
              "        [0.        ],\n",
              "        [0.        ],\n",
              "        [0.        ],\n",
              "        [0.        ],\n",
              "        [0.        ],\n",
              "        [0.        ]],\n",
              "\n",
              "       [[0.        ],\n",
              "        [0.        ],\n",
              "        [0.        ],\n",
              "        [0.        ],\n",
              "        [0.        ],\n",
              "        [0.        ],\n",
              "        [0.        ],\n",
              "        [0.        ],\n",
              "        [0.19215687],\n",
              "        [0.6627451 ],\n",
              "        [0.49019608],\n",
              "        [0.61960787],\n",
              "        [0.73333335],\n",
              "        [0.8352941 ],\n",
              "        [0.        ],\n",
              "        [0.4862745 ],\n",
              "        [0.85882354],\n",
              "        [0.5176471 ],\n",
              "        [0.58431375],\n",
              "        [0.7764706 ],\n",
              "        [0.6901961 ],\n",
              "        [0.        ],\n",
              "        [0.        ],\n",
              "        [0.        ],\n",
              "        [0.        ],\n",
              "        [0.        ],\n",
              "        [0.        ],\n",
              "        [0.        ]],\n",
              "\n",
              "       [[0.        ],\n",
              "        [0.        ],\n",
              "        [0.        ],\n",
              "        [0.        ],\n",
              "        [0.        ],\n",
              "        [0.        ],\n",
              "        [0.        ],\n",
              "        [0.        ],\n",
              "        [0.19215687],\n",
              "        [0.65882355],\n",
              "        [0.5019608 ],\n",
              "        [0.5882353 ],\n",
              "        [0.7529412 ],\n",
              "        [0.77254903],\n",
              "        [0.        ],\n",
              "        [0.32156864],\n",
              "        [0.85882354],\n",
              "        [0.59607846],\n",
              "        [0.6       ],\n",
              "        [0.69411767],\n",
              "        [0.6862745 ],\n",
              "        [0.        ],\n",
              "        [0.        ],\n",
              "        [0.        ],\n",
              "        [0.        ],\n",
              "        [0.        ],\n",
              "        [0.        ],\n",
              "        [0.        ]],\n",
              "\n",
              "       [[0.        ],\n",
              "        [0.        ],\n",
              "        [0.        ],\n",
              "        [0.        ],\n",
              "        [0.        ],\n",
              "        [0.        ],\n",
              "        [0.        ],\n",
              "        [0.        ],\n",
              "        [0.19607843],\n",
              "        [0.68235296],\n",
              "        [0.53333336],\n",
              "        [0.5647059 ],\n",
              "        [0.74509805],\n",
              "        [0.7254902 ],\n",
              "        [0.        ],\n",
              "        [0.11372549],\n",
              "        [0.8666667 ],\n",
              "        [0.60784316],\n",
              "        [0.6       ],\n",
              "        [0.72156864],\n",
              "        [0.68235296],\n",
              "        [0.        ],\n",
              "        [0.        ],\n",
              "        [0.        ],\n",
              "        [0.        ],\n",
              "        [0.        ],\n",
              "        [0.        ],\n",
              "        [0.        ]],\n",
              "\n",
              "       [[0.        ],\n",
              "        [0.        ],\n",
              "        [0.        ],\n",
              "        [0.        ],\n",
              "        [0.        ],\n",
              "        [0.        ],\n",
              "        [0.        ],\n",
              "        [0.        ],\n",
              "        [0.20784314],\n",
              "        [0.6862745 ],\n",
              "        [0.54901963],\n",
              "        [0.6313726 ],\n",
              "        [0.7490196 ],\n",
              "        [0.56078434],\n",
              "        [0.        ],\n",
              "        [0.05098039],\n",
              "        [0.8666667 ],\n",
              "        [0.6039216 ],\n",
              "        [0.6117647 ],\n",
              "        [0.72156864],\n",
              "        [0.6784314 ],\n",
              "        [0.        ],\n",
              "        [0.        ],\n",
              "        [0.        ],\n",
              "        [0.        ],\n",
              "        [0.        ],\n",
              "        [0.        ],\n",
              "        [0.        ]],\n",
              "\n",
              "       [[0.        ],\n",
              "        [0.        ],\n",
              "        [0.        ],\n",
              "        [0.        ],\n",
              "        [0.        ],\n",
              "        [0.        ],\n",
              "        [0.        ],\n",
              "        [0.        ],\n",
              "        [0.22745098],\n",
              "        [0.72156864],\n",
              "        [0.47843137],\n",
              "        [0.6509804 ],\n",
              "        [0.7764706 ],\n",
              "        [0.4509804 ],\n",
              "        [0.        ],\n",
              "        [0.        ],\n",
              "        [0.8509804 ],\n",
              "        [0.61960787],\n",
              "        [0.627451  ],\n",
              "        [0.7058824 ],\n",
              "        [0.654902  ],\n",
              "        [0.        ],\n",
              "        [0.        ],\n",
              "        [0.        ],\n",
              "        [0.        ],\n",
              "        [0.        ],\n",
              "        [0.        ],\n",
              "        [0.        ]],\n",
              "\n",
              "       [[0.        ],\n",
              "        [0.        ],\n",
              "        [0.        ],\n",
              "        [0.        ],\n",
              "        [0.        ],\n",
              "        [0.        ],\n",
              "        [0.        ],\n",
              "        [0.        ],\n",
              "        [0.22745098],\n",
              "        [0.8       ],\n",
              "        [0.43529412],\n",
              "        [0.6745098 ],\n",
              "        [0.79607844],\n",
              "        [0.30980393],\n",
              "        [0.        ],\n",
              "        [0.        ],\n",
              "        [0.8       ],\n",
              "        [0.6431373 ],\n",
              "        [0.60784316],\n",
              "        [0.7372549 ],\n",
              "        [0.6627451 ],\n",
              "        [0.        ],\n",
              "        [0.        ],\n",
              "        [0.        ],\n",
              "        [0.        ],\n",
              "        [0.        ],\n",
              "        [0.        ],\n",
              "        [0.        ]],\n",
              "\n",
              "       [[0.        ],\n",
              "        [0.        ],\n",
              "        [0.        ],\n",
              "        [0.        ],\n",
              "        [0.        ],\n",
              "        [0.        ],\n",
              "        [0.        ],\n",
              "        [0.        ],\n",
              "        [0.21568628],\n",
              "        [0.8392157 ],\n",
              "        [0.5411765 ],\n",
              "        [0.69411767],\n",
              "        [0.81960785],\n",
              "        [0.16078432],\n",
              "        [0.        ],\n",
              "        [0.        ],\n",
              "        [0.7294118 ],\n",
              "        [0.7058824 ],\n",
              "        [0.59607846],\n",
              "        [0.73333335],\n",
              "        [0.65882355],\n",
              "        [0.        ],\n",
              "        [0.        ],\n",
              "        [0.        ],\n",
              "        [0.        ],\n",
              "        [0.        ],\n",
              "        [0.        ],\n",
              "        [0.        ]],\n",
              "\n",
              "       [[0.        ],\n",
              "        [0.        ],\n",
              "        [0.        ],\n",
              "        [0.        ],\n",
              "        [0.        ],\n",
              "        [0.        ],\n",
              "        [0.        ],\n",
              "        [0.        ],\n",
              "        [0.21568628],\n",
              "        [0.8392157 ],\n",
              "        [0.58431375],\n",
              "        [0.69411767],\n",
              "        [0.8235294 ],\n",
              "        [0.09019608],\n",
              "        [0.        ],\n",
              "        [0.        ],\n",
              "        [0.61960787],\n",
              "        [0.78039217],\n",
              "        [0.6784314 ],\n",
              "        [0.7529412 ],\n",
              "        [0.6392157 ],\n",
              "        [0.        ],\n",
              "        [0.        ],\n",
              "        [0.        ],\n",
              "        [0.        ],\n",
              "        [0.        ],\n",
              "        [0.        ],\n",
              "        [0.        ]],\n",
              "\n",
              "       [[0.        ],\n",
              "        [0.        ],\n",
              "        [0.        ],\n",
              "        [0.        ],\n",
              "        [0.        ],\n",
              "        [0.        ],\n",
              "        [0.        ],\n",
              "        [0.        ],\n",
              "        [0.21568628],\n",
              "        [0.84705883],\n",
              "        [0.62352943],\n",
              "        [0.73333335],\n",
              "        [0.8       ],\n",
              "        [0.02352941],\n",
              "        [0.        ],\n",
              "        [0.        ],\n",
              "        [0.53333336],\n",
              "        [0.7764706 ],\n",
              "        [0.7411765 ],\n",
              "        [0.8156863 ],\n",
              "        [0.64705884],\n",
              "        [0.        ],\n",
              "        [0.        ],\n",
              "        [0.        ],\n",
              "        [0.        ],\n",
              "        [0.        ],\n",
              "        [0.        ],\n",
              "        [0.        ]],\n",
              "\n",
              "       [[0.        ],\n",
              "        [0.        ],\n",
              "        [0.        ],\n",
              "        [0.        ],\n",
              "        [0.        ],\n",
              "        [0.        ],\n",
              "        [0.        ],\n",
              "        [0.        ],\n",
              "        [0.21568628],\n",
              "        [0.83137256],\n",
              "        [0.6313726 ],\n",
              "        [0.77254903],\n",
              "        [0.7490196 ],\n",
              "        [0.        ],\n",
              "        [0.        ],\n",
              "        [0.        ],\n",
              "        [0.4627451 ],\n",
              "        [0.7529412 ],\n",
              "        [0.7254902 ],\n",
              "        [0.8392157 ],\n",
              "        [0.6313726 ],\n",
              "        [0.        ],\n",
              "        [0.        ],\n",
              "        [0.        ],\n",
              "        [0.        ],\n",
              "        [0.        ],\n",
              "        [0.        ],\n",
              "        [0.        ]],\n",
              "\n",
              "       [[0.        ],\n",
              "        [0.        ],\n",
              "        [0.        ],\n",
              "        [0.        ],\n",
              "        [0.        ],\n",
              "        [0.        ],\n",
              "        [0.        ],\n",
              "        [0.        ],\n",
              "        [0.24705882],\n",
              "        [0.7882353 ],\n",
              "        [0.63529414],\n",
              "        [0.8117647 ],\n",
              "        [0.67058825],\n",
              "        [0.        ],\n",
              "        [0.        ],\n",
              "        [0.        ],\n",
              "        [0.3372549 ],\n",
              "        [0.77254903],\n",
              "        [0.72156864],\n",
              "        [0.8392157 ],\n",
              "        [0.6117647 ],\n",
              "        [0.        ],\n",
              "        [0.        ],\n",
              "        [0.        ],\n",
              "        [0.        ],\n",
              "        [0.        ],\n",
              "        [0.        ],\n",
              "        [0.        ]],\n",
              "\n",
              "       [[0.        ],\n",
              "        [0.        ],\n",
              "        [0.        ],\n",
              "        [0.        ],\n",
              "        [0.        ],\n",
              "        [0.        ],\n",
              "        [0.        ],\n",
              "        [0.        ],\n",
              "        [0.26666668],\n",
              "        [0.77254903],\n",
              "        [0.65882355],\n",
              "        [0.8352941 ],\n",
              "        [0.60784316],\n",
              "        [0.        ],\n",
              "        [0.        ],\n",
              "        [0.        ],\n",
              "        [0.2509804 ],\n",
              "        [0.76862746],\n",
              "        [0.7176471 ],\n",
              "        [0.85882354],\n",
              "        [0.6039216 ],\n",
              "        [0.        ],\n",
              "        [0.        ],\n",
              "        [0.        ],\n",
              "        [0.        ],\n",
              "        [0.        ],\n",
              "        [0.        ],\n",
              "        [0.        ]],\n",
              "\n",
              "       [[0.        ],\n",
              "        [0.        ],\n",
              "        [0.        ],\n",
              "        [0.        ],\n",
              "        [0.        ],\n",
              "        [0.        ],\n",
              "        [0.        ],\n",
              "        [0.        ],\n",
              "        [0.28627452],\n",
              "        [0.75686276],\n",
              "        [0.65882355],\n",
              "        [0.84313726],\n",
              "        [0.57254905],\n",
              "        [0.        ],\n",
              "        [0.00392157],\n",
              "        [0.        ],\n",
              "        [0.21960784],\n",
              "        [0.74509805],\n",
              "        [0.7058824 ],\n",
              "        [0.8039216 ],\n",
              "        [0.57254905],\n",
              "        [0.        ],\n",
              "        [0.        ],\n",
              "        [0.        ],\n",
              "        [0.        ],\n",
              "        [0.        ],\n",
              "        [0.        ],\n",
              "        [0.        ]],\n",
              "\n",
              "       [[0.        ],\n",
              "        [0.        ],\n",
              "        [0.        ],\n",
              "        [0.        ],\n",
              "        [0.        ],\n",
              "        [0.        ],\n",
              "        [0.        ],\n",
              "        [0.        ],\n",
              "        [0.28627452],\n",
              "        [0.6901961 ],\n",
              "        [0.65882355],\n",
              "        [0.8       ],\n",
              "        [0.5372549 ],\n",
              "        [0.        ],\n",
              "        [0.01176471],\n",
              "        [0.        ],\n",
              "        [0.14509805],\n",
              "        [0.7294118 ],\n",
              "        [0.7019608 ],\n",
              "        [0.8       ],\n",
              "        [0.5411765 ],\n",
              "        [0.        ],\n",
              "        [0.        ],\n",
              "        [0.        ],\n",
              "        [0.        ],\n",
              "        [0.        ],\n",
              "        [0.        ],\n",
              "        [0.        ]],\n",
              "\n",
              "       [[0.        ],\n",
              "        [0.        ],\n",
              "        [0.        ],\n",
              "        [0.        ],\n",
              "        [0.        ],\n",
              "        [0.        ],\n",
              "        [0.        ],\n",
              "        [0.        ],\n",
              "        [0.36862746],\n",
              "        [0.77254903],\n",
              "        [0.69803923],\n",
              "        [0.83137256],\n",
              "        [0.5058824 ],\n",
              "        [0.        ],\n",
              "        [0.01960784],\n",
              "        [0.        ],\n",
              "        [0.1254902 ],\n",
              "        [0.75686276],\n",
              "        [0.7254902 ],\n",
              "        [0.8235294 ],\n",
              "        [0.5882353 ],\n",
              "        [0.        ],\n",
              "        [0.        ],\n",
              "        [0.        ],\n",
              "        [0.        ],\n",
              "        [0.        ],\n",
              "        [0.        ],\n",
              "        [0.        ]],\n",
              "\n",
              "       [[0.        ],\n",
              "        [0.        ],\n",
              "        [0.        ],\n",
              "        [0.        ],\n",
              "        [0.        ],\n",
              "        [0.        ],\n",
              "        [0.        ],\n",
              "        [0.        ],\n",
              "        [0.19215687],\n",
              "        [0.47843137],\n",
              "        [0.49411765],\n",
              "        [0.627451  ],\n",
              "        [0.25490198],\n",
              "        [0.        ],\n",
              "        [0.01176471],\n",
              "        [0.        ],\n",
              "        [0.03137255],\n",
              "        [0.6117647 ],\n",
              "        [0.6784314 ],\n",
              "        [0.7372549 ],\n",
              "        [0.41960785],\n",
              "        [0.        ],\n",
              "        [0.        ],\n",
              "        [0.        ],\n",
              "        [0.        ],\n",
              "        [0.        ],\n",
              "        [0.        ],\n",
              "        [0.        ]]], dtype=float32)"
            ]
          },
          "metadata": {},
          "execution_count": 14
        }
      ]
    },
    {
      "cell_type": "code",
      "source": [
        "plt.imshow(X_train[16], cmap='gray')"
      ],
      "metadata": {
        "id": "_rwL1Qyu5Owc",
        "outputId": "80703c7a-e126-49ba-cf1c-c7e24d712dcc",
        "colab": {
          "base_uri": "https://localhost:8080/",
          "height": 448
        }
      },
      "execution_count": 15,
      "outputs": [
        {
          "output_type": "execute_result",
          "data": {
            "text/plain": [
              "<matplotlib.image.AxesImage at 0x7adf5981be20>"
            ]
          },
          "metadata": {},
          "execution_count": 15
        },
        {
          "output_type": "display_data",
          "data": {
            "text/plain": [
              "<Figure size 640x480 with 1 Axes>"
            ],
            "image/png": "[encoded data removed]"
          },
          "metadata": {}
        }
      ]
    },
    {
      "cell_type": "code",
      "source": [
        "# convert class into binary class matrices 2 => [0,0,1,0,0...] aslo known was Onehot encoding\n",
        "# 1               : sparse_categorical_crossentropy\n",
        "# [0,0,1,0,0,...] : categorical_crossentropy\n",
        "# to be honest, i reaaly don't know why we must do this, but follow the rule right.\n",
        "\n",
        "y_train_onehot = keras.utils.to_categorical(y_train, len(class_name))\n",
        "y_test_onehot = keras.utils.to_categorical(y_test, len(class_name))\n"
      ],
      "metadata": {
        "id": "_78OcrxJ55h6"
      },
      "execution_count": 16,
      "outputs": []
    },
    {
      "cell_type": "code",
      "source": [
        "y_train[16] ,y_train_onehot[16]"
      ],
      "metadata": {
        "id": "yOZRlXIX7HU7",
        "outputId": "3a47c32f-8902-4813-e2bf-1ec28c9ee005",
        "colab": {
          "base_uri": "https://localhost:8080/"
        }
      },
      "execution_count": 17,
      "outputs": [
        {
          "output_type": "execute_result",
          "data": {
            "text/plain": [
              "(1, array([0., 1., 0., 0., 0., 0., 0., 0., 0., 0.], dtype=float32))"
            ]
          },
          "metadata": {},
          "execution_count": 17
        }
      ]
    },
    {
      "cell_type": "markdown",
      "source": [
        "# Neural network"
      ],
      "metadata": {
        "id": "ovGxIqvI7kRO"
      }
    },
    {
      "cell_type": "code",
      "source": [
        "# define input shape to tell model which dimension is image\n",
        "# the whole stuffs above was insane but just me this one blow my mind\n",
        "# after you define your big pixel array of all image one by one,\n",
        "# here you need to tell the model, which demension is your image, weird right,\n",
        "# if you don't want to use this , you can replace with X_train,shape[1:] instead\n",
        "input_shape = (28,28,1)"
      ],
      "metadata": {
        "id": "cABdP1-V8Qnm"
      },
      "execution_count": 18,
      "outputs": []
    },
    {
      "cell_type": "code",
      "source": [
        "#  I have no clue what is these code?\n",
        "# Some kind of way to create and define mmodel deep learning or define neural network\n",
        "\n",
        "model = keras.models.Sequential([\n",
        "    layers.Flatten(input_shape=input_shape), # turn (28,28,1) into one dimension vector (28*28) = 784\n",
        "    layers.Dense(512, activation='relu'), # avoid linear model\n",
        "    layers.Dense(256, activation='relu'),\n",
        "    layers.Dense(len(class_name), activation='softmax') # Calculated probability\n",
        "])\n",
        "\n",
        "model.summary()"
      ],
      "metadata": {
        "id": "AXL5YKPf7czn",
        "outputId": "88237c6b-2513-4288-b0a6-10ff54497843",
        "colab": {
          "base_uri": "https://localhost:8080/"
        }
      },
      "execution_count": 33,
      "outputs": [
        {
          "output_type": "stream",
          "name": "stdout",
          "text": [
            "Model: \"sequential_1\"\n",
            "_________________________________________________________________\n",
            " Layer (type)                Output Shape              Param #   \n",
            "=================================================================\n",
            " flatten_1 (Flatten)         (None, 784)               0         \n",
            "                                                                 \n",
            " dense_3 (Dense)             (None, 512)               401920    \n",
            "                                                                 \n",
            " dense_4 (Dense)             (None, 256)               131328    \n",
            "                                                                 \n",
            " dense_5 (Dense)             (None, 10)                2570      \n",
            "                                                                 \n",
            "=================================================================\n",
            "Total params: 535818 (2.04 MB)\n",
            "Trainable params: 535818 (2.04 MB)\n",
            "Non-trainable params: 0 (0.00 Byte)\n",
            "_________________________________________________________________\n"
          ]
        }
      ]
    },
    {
      "cell_type": "code",
      "source": [
        "model.output_shape"
      ],
      "metadata": {
        "id": "8fGxB1NiKew-",
        "outputId": "10d3b328-c695-4dbc-d95e-1035eedee8ab",
        "colab": {
          "base_uri": "https://localhost:8080/"
        }
      },
      "execution_count": 45,
      "outputs": [
        {
          "output_type": "execute_result",
          "data": {
            "text/plain": [
              "(None, 10)"
            ]
          },
          "metadata": {},
          "execution_count": 45
        }
      ]
    },
    {
      "cell_type": "code",
      "source": [],
      "metadata": {
        "id": "1eJ5zce8LrIU"
      },
      "execution_count": 48,
      "outputs": []
    },
    {
      "cell_type": "code",
      "source": [
        "# /After define tho  model you need to compile it so you can fit it later\n",
        "# or the truth is that you can specify the optimizer and loss function\n",
        "# these stuffs below was created in experience not randomly, and you must practice more and more to get this\n",
        "\n",
        "model.compile(optimizer='rmsprop',\n",
        "              loss='categorical_crossentropy',\n",
        "              metrics=['accuracy'])\n"
      ],
      "metadata": {
        "id": "jF7r8mOg-4vO"
      },
      "execution_count": 20,
      "outputs": []
    },
    {
      "cell_type": "code",
      "source": [
        "# Now it's time to train the model, fit == train, make sure that you save the training result to know\n",
        "# how accuracy the model is, and evaluate it by plotting\n",
        "# It necessary for you to understand how the model learn, visualize the learning curve will help you alots.\n",
        "\n",
        "epochs = 10\n",
        "batch_size = 128\n",
        "history = model.fit(X_train, y_train_onehot,\n",
        "                    epochs=epochs,\n",
        "                    batch_size = batch_size,\n",
        "                    validation_split=0.1)"
      ],
      "metadata": {
        "id": "PMoqzm91_Kr-",
        "outputId": "7bfa3911-14da-4d17-ab9e-df02259d2a3c",
        "colab": {
          "base_uri": "https://localhost:8080/"
        }
      },
      "execution_count": 21,
      "outputs": [
        {
          "output_type": "stream",
          "name": "stdout",
          "text": [
            "Epoch 1/10\n",
            "422/422 [==============================] - 13s 28ms/step - loss: 0.5590 - accuracy: 0.7952 - val_loss: 0.4079 - val_accuracy: 0.8505\n",
            "Epoch 2/10\n",
            "422/422 [==============================] - 6s 15ms/step - loss: 0.3818 - accuracy: 0.8579 - val_loss: 0.4310 - val_accuracy: 0.8290\n",
            "Epoch 3/10\n",
            "422/422 [==============================] - 5s 12ms/step - loss: 0.3371 - accuracy: 0.8741 - val_loss: 0.3911 - val_accuracy: 0.8600\n",
            "Epoch 4/10\n",
            "422/422 [==============================] - 5s 12ms/step - loss: 0.3097 - accuracy: 0.8831 - val_loss: 0.3470 - val_accuracy: 0.8708\n",
            "Epoch 5/10\n",
            "422/422 [==============================] - 6s 15ms/step - loss: 0.2904 - accuracy: 0.8909 - val_loss: 0.3314 - val_accuracy: 0.8830\n",
            "Epoch 6/10\n",
            "422/422 [==============================] - 5s 11ms/step - loss: 0.2725 - accuracy: 0.8969 - val_loss: 0.3501 - val_accuracy: 0.8755\n",
            "Epoch 7/10\n",
            "422/422 [==============================] - 6s 14ms/step - loss: 0.2590 - accuracy: 0.9020 - val_loss: 0.3205 - val_accuracy: 0.8885\n",
            "Epoch 8/10\n",
            "422/422 [==============================] - 5s 11ms/step - loss: 0.2476 - accuracy: 0.9061 - val_loss: 0.3381 - val_accuracy: 0.8885\n",
            "Epoch 9/10\n",
            "422/422 [==============================] - 5s 11ms/step - loss: 0.2357 - accuracy: 0.9124 - val_loss: 0.3250 - val_accuracy: 0.8872\n",
            "Epoch 10/10\n",
            "422/422 [==============================] - 6s 15ms/step - loss: 0.2268 - accuracy: 0.9154 - val_loss: 0.3123 - val_accuracy: 0.8953\n"
          ]
        }
      ]
    },
    {
      "cell_type": "code",
      "source": [
        "history_dict = history.history\n",
        "history_dict.keys()\n"
      ],
      "metadata": {
        "id": "HZLIoE5gA5Up",
        "outputId": "9398335a-af68-4323-f50b-ff4800d05cd1",
        "colab": {
          "base_uri": "https://localhost:8080/"
        }
      },
      "execution_count": 22,
      "outputs": [
        {
          "output_type": "execute_result",
          "data": {
            "text/plain": [
              "dict_keys(['loss', 'accuracy', 'val_loss', 'val_accuracy'])"
            ]
          },
          "metadata": {},
          "execution_count": 22
        }
      ]
    },
    {
      "cell_type": "code",
      "source": [
        "train_loss, val_loss = history_dict['loss'], history_dict['val_loss']\n",
        "train_acc, val_acc = history_dict['accuracy'], history_dict['val_accuracy']\n"
      ],
      "metadata": {
        "id": "LjTvA8flC0aC"
      },
      "execution_count": 23,
      "outputs": []
    },
    {
      "cell_type": "code",
      "source": [
        "# By visualize the learning curve you can evaluate the model in overview, and easy to interpret\n",
        "\n",
        "\n",
        "fig, (ax1, ax2) = plt.subplots(1, 2, figsize=(15,5))\n",
        "epoch_runs = [idx + 1 for idx in range(epochs)]\n",
        "\n",
        "ax1.plot(epoch_runs, train_loss, label=\"Training loss\")\n",
        "ax1.plot(epoch_runs, val_loss, label=\"Valiadation loss\", marker=\"*\")\n",
        "ax1.set(title=\"Training Loss versus Validation Loss\", xlabel=\"Epochs\", ylabel=\"Loss\")\n",
        "ax1.legend()\n",
        "\n",
        "ax2.plot(epoch_runs, train_acc, label=\"Training accuracy\")\n",
        "ax2.plot(epoch_runs, val_acc, label=\"Valiadation accuracy\", marker=\"*\")\n",
        "ax2.set(title=\"Training accuracy versus Validation accuracy\", xlabel=\"Epochs\", ylabel=\"Loss\")\n",
        "ax2.legend()\n",
        "plt.show()\n"
      ],
      "metadata": {
        "id": "aR5zYpc0DLU7",
        "outputId": "1abccc01-b0a5-4db3-e271-4b5dca627c5a",
        "colab": {
          "base_uri": "https://localhost:8080/",
          "height": 487
        }
      },
      "execution_count": 24,
      "outputs": [
        {
          "output_type": "display_data",
          "data": {
            "text/plain": [
              "<Figure size 1500x500 with 2 Axes>"
            ],
            "image/png": "[encoded data removed]"
          },
          "metadata": {}
        }
      ]
    },
    {
      "cell_type": "markdown",
      "source": [
        "# 4. Model Evaluation"
      ],
      "metadata": {
        "id": "R7fFiNjXFU9A"
      }
    },
    {
      "cell_type": "code",
      "source": [
        "score = model.evaluate(X_test, y_test_onehot)"
      ],
      "metadata": {
        "id": "uciUPypYFTgY",
        "outputId": "65ca50b4-af04-4f2f-8efb-38facef7b302",
        "colab": {
          "base_uri": "https://localhost:8080/"
        }
      },
      "execution_count": 25,
      "outputs": [
        {
          "output_type": "stream",
          "name": "stdout",
          "text": [
            "313/313 [==============================] - 1s 3ms/step - loss: 0.3354 - accuracy: 0.8876\n"
          ]
        }
      ]
    },
    {
      "cell_type": "code",
      "source": [
        "print(f\"Test loss:  {score[0]:.4f}\")\n",
        "print(f\"Test accuracy: {score[1]:.4f}\")"
      ],
      "metadata": {
        "id": "newGrdMjFoFP",
        "outputId": "a51ca39f-c472-4d54-ed7e-685c20127088",
        "colab": {
          "base_uri": "https://localhost:8080/"
        }
      },
      "execution_count": 26,
      "outputs": [
        {
          "output_type": "stream",
          "name": "stdout",
          "text": [
            "Test loss:  0.3354\n",
            "Test accuracy: 0.8876\n"
          ]
        }
      ]
    },
    {
      "cell_type": "markdown",
      "source": [
        "# 5. Prediction"
      ],
      "metadata": {
        "id": "Hk6IWaoZGG2c"
      }
    },
    {
      "cell_type": "code",
      "source": [
        "X_sample = X_test[: 5]\n",
        "y_proba = model.predict(X_sample)\n"
      ],
      "metadata": {
        "id": "RWIdltqbF00X",
        "outputId": "a9462dd2-afac-460e-edda-e7f4d11474cb",
        "colab": {
          "base_uri": "https://localhost:8080/"
        }
      },
      "execution_count": 27,
      "outputs": [
        {
          "output_type": "stream",
          "name": "stdout",
          "text": [
            "1/1 [==============================] - 0s 90ms/step\n"
          ]
        }
      ]
    },
    {
      "cell_type": "code",
      "source": [
        "y_proba.round(3)"
      ],
      "metadata": {
        "id": "DVAVXRbxJItB",
        "outputId": "b3fc61ea-4ba7-4281-e270-422cbf468cf5",
        "colab": {
          "base_uri": "https://localhost:8080/"
        }
      },
      "execution_count": 28,
      "outputs": [
        {
          "output_type": "execute_result",
          "data": {
            "text/plain": [
              "array([[0.   , 0.   , 0.   , 0.   , 0.   , 0.   , 0.   , 0.   , 0.   ,\n",
              "        1.   ],\n",
              "       [0.   , 0.   , 1.   , 0.   , 0.   , 0.   , 0.   , 0.   , 0.   ,\n",
              "        0.   ],\n",
              "       [0.   , 1.   , 0.   , 0.   , 0.   , 0.   , 0.   , 0.   , 0.   ,\n",
              "        0.   ],\n",
              "       [0.   , 1.   , 0.   , 0.   , 0.   , 0.   , 0.   , 0.   , 0.   ,\n",
              "        0.   ],\n",
              "       [0.265, 0.   , 0.003, 0.   , 0.   , 0.   , 0.731, 0.   , 0.   ,\n",
              "        0.   ]], dtype=float32)"
            ]
          },
          "metadata": {},
          "execution_count": 28
        }
      ]
    },
    {
      "cell_type": "code",
      "source": [
        "prediction = np.argmax(y_proba, axis=1)\n"
      ],
      "metadata": {
        "id": "l9oMWVC9JL3G"
      },
      "execution_count": 29,
      "outputs": []
    },
    {
      "cell_type": "code",
      "source": [
        "[class_name[pred] for pred in prediction]"
      ],
      "metadata": {
        "id": "z466pOjaJT3P",
        "outputId": "c540b63c-e044-4b7a-a9dc-43016893fc89",
        "colab": {
          "base_uri": "https://localhost:8080/"
        }
      },
      "execution_count": 30,
      "outputs": [
        {
          "output_type": "execute_result",
          "data": {
            "text/plain": [
              "['Ankie boot', 'Pullover', 'Trouser', 'Trouser', 'Shirt']"
            ]
          },
          "metadata": {},
          "execution_count": 30
        }
      ]
    },
    {
      "cell_type": "code",
      "source": [
        "y_proba = model.predict(X_test)\n"
      ],
      "metadata": {
        "id": "T8TJd33nJgyM",
        "outputId": "336e31e0-439b-4600-c692-cace27de7a35",
        "colab": {
          "base_uri": "https://localhost:8080/"
        }
      },
      "execution_count": 31,
      "outputs": [
        {
          "output_type": "stream",
          "name": "stdout",
          "text": [
            "313/313 [==============================] - 1s 3ms/step\n"
          ]
        }
      ]
    },
    {
      "cell_type": "code",
      "source": [
        "# I need to say that this func was out of mind,\n",
        "\n",
        "plot_data(X_test, y_test, y_proba)"
      ],
      "metadata": {
        "id": "XODyYs7fJoYM",
        "outputId": "73225915-7252-4248-a309-719c47bed163",
        "colab": {
          "base_uri": "https://localhost:8080/",
          "height": 410
        }
      },
      "execution_count": 32,
      "outputs": [
        {
          "output_type": "display_data",
          "data": {
            "text/plain": [
              "<Figure size 1000x400 with 10 Axes>"
            ],
            "image/png": "[encoded data removed]"
          },
          "metadata": {}
        }
      ]
    },
    {
      "cell_type": "code",
      "source": [],
      "metadata": {
        "id": "kEwrdNygJt56"
      },
      "execution_count": 32,
      "outputs": []
    }
  ],
  "metadata": {
    "language_info": {
      "name": "python"
    },
    "colab": {
      "provenance": [],
      "toc_visible": true
    },
    "kernelspec": {
      "name": "python3",
      "display_name": "Python 3"
    }
  },
  "nbformat": 4,
  "nbformat_minor": 0
}